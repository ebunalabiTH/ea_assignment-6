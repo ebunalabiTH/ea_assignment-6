{
  "cells": [
    {
      "cell_type": "markdown",
      "metadata": {
        "id": "Dd0qJjGWPDEY"
      },
      "source": [
        "# **ENGS 108 Fall 2023 Assignment 6**\n",
        "\n",
        "*Due November 14, 2023 at 11:59PM on Github*\n",
        "\n",
        "**Instructors:** George Cybenko\n",
        "\n",
        "**TAs:** Sunishka Jain, Diksha Bubna, Ganesh Rohit Nirogi , Kushagra Rawat\n",
        "\n",
        "\n",
        "---\n",
        "\n",
        "## **Rules and Requirements**\n",
        "\n",
        "\n",
        "1.   You are only allowed to use Python packages that are explicity imported in\n",
        "the assignment notebook or are standard (bultin) python libraries like random, os, sys, etc, (Standard Bultin Python libraries will have a Python.org documentation). For this assignment you may use:\n",
        "  *   [numpy](https://numpy.org/doc/stable/)\n",
        "  *   [pandas](https://pandas.pydata.org/pandas-docs/stable/index.html)\n",
        "  *   [scikit-learn](https://scikit-learn.org/stable/)\n",
        "  *   [matplotlib](https://matplotlib.org/)\n",
        "  *   [tensorflow](https://www.tensorflow.org/)\n",
        "\n",
        "2.   All code must be fit into the designated code or text blocks in the assignment notebook. They are indentified by a **TODO** qualifier.\n",
        "\n",
        "3. For analytical questions that don't require code, type your answer cleanly in Markdown. For help, see the [Google Colab Markdown Guide](https://colab.research.google.com/notebooks/markdown_guide.ipynb).\n",
        "\n",
        "---\n"
      ]
    },
    {
      "cell_type": "code",
      "source": [
        "''' Import Statements '''\n",
        "import os\n",
        "import random\n",
        "import numpy as np\n",
        "import pandas as pd\n",
        "import csv\n",
        "import tqdm\n",
        "import nltk\n",
        "nltk.download('punkt')"
      ],
      "metadata": {
        "id": "jWeL44Q9isdH"
      },
      "execution_count": null,
      "outputs": []
    },
    {
      "cell_type": "markdown",
      "metadata": {
        "id": "1nrT0KUOtZE1"
      },
      "source": [
        "# Creating a Trump Tweet Generator!!!\n",
        "Finally it's happened. I am allowed to make my dream assignment. Trust me it's the best assignment. People tell me all the time how they wish they could have had an assignment as great as this. You will see why! But first some housekeeping..."
      ]
    },
    {
      "cell_type": "markdown",
      "metadata": {
        "id": "aFcqjf9VXHfF"
      },
      "source": [
        "# Data Loading\n",
        "In this assignment we will be using a repository of Donald Trump tweets scrapped from Twitter through June 2020 from [Kaggle](https://www.kaggle.com/datasets/austinreese/trump-tweets) and will use the following code blocks to download the dataset directly to your Google Drive."
      ]
    },
    {
      "cell_type": "markdown",
      "metadata": {
        "id": "0tZ4gJ5zuZjP"
      },
      "source": [
        "## Creating a Kaggle API Token\n",
        "First we will need to download an API token from Kaggle in order to download the dataset, so our first step is to create a Kaggle account if you don't already have one. (You should have done this in Assignment 4 in case this looks familiar.\n",
        "1. Create a Kaggle account by following the sign up instructions [here](https://www.kaggle.com/).\n",
        "2. Log into your Kaggle account and click your account icon on the upper righthand side.\n",
        "3. Then select **Account** from the dropdown/sidebar menu.\n",
        "4. Scroll down to the **API** section and select **Create New API Token**.\n",
        "5. This will download a JSON file called kaggle.json to your Downloads folder on your computer.\n",
        "6. Now run the following code block and when the **Browse** button appears, click it and select that kaggle.json file."
      ]
    },
    {
      "cell_type": "code",
      "execution_count": null,
      "metadata": {
        "id": "gSQSg2HkXaHF"
      },
      "outputs": [],
      "source": [
        "# Run this code block after creating a Kaggle API token as instructed above.\n",
        "! pip install -q kaggle\n",
        "from google.colab import files\n",
        "\n",
        "# Will ask you to upload kaggle.json file and remove any old ones.\n",
        "if os.path.exists('kaggle.json'):\n",
        "  os.remove('kaggle.json')\n",
        "files.upload()\n",
        "\n",
        "# Will create the appropriate directory structure\n",
        "if not os.path.exists('/root/.kaggle'):\n",
        "  ! mkdir ~/.kaggle\n",
        "! cp kaggle.json ~/.kaggle/\n",
        "! chmod 600 ~/.kaggle/kaggle.json\n",
        "# Also we are going to make a directory called result\n",
        "if not os.path.exists('/content/results'):\n",
        "  ! mkdir /content/result"
      ]
    },
    {
      "cell_type": "markdown",
      "metadata": {
        "id": "qVOhg0Rxx1HB"
      },
      "source": [
        "## Downloading the Dataset\n",
        "\n",
        "7. Now we have downloaded our Kaggle credentials we can now download the Trump Tweets Dataset (or any other Kaggle dataset for that matter) directly into our Google Drive."
      ]
    },
    {
      "cell_type": "code",
      "execution_count": null,
      "metadata": {
        "id": "-r2Nya5yV3hW",
        "outputId": "03152779-0f4e-4ff8-ca78-3713cdc60e4c"
      },
      "outputs": [
        {
          "name": "stdout",
          "output_type": "stream",
          "text": [
            "/bin/sh: kaggle: command not found\n",
            "unzip:  cannot find or open trump-tweets.zip, trump-tweets.zip.zip or trump-tweets.zip.ZIP.\n"
          ]
        }
      ],
      "source": [
        "! kaggle datasets download austinreese/trump-tweets\n",
        "# Will check to see if the yoga postures zip file has been unzipped and will unzip the file if not.\n",
        "! unzip trump-tweets.zip"
      ]
    },
    {
      "cell_type": "markdown",
      "metadata": {
        "id": "EyYOK_sA1rxB"
      },
      "source": [
        "## Loading the Dataset using Pandas\n",
        "Now let's inspect the trump tweets dataset and see what we have to work with... Brace yourselves."
      ]
    },
    {
      "cell_type": "code",
      "source": [
        "# Let's load in the two files that we inflated from the Kaggle download. Both realdonaldtrump.csv and trumptweets.csv are the same.\n",
        "real_donald_trump_df = pd.read_csv('realdonaldtrump.csv')"
      ],
      "metadata": {
        "id": "MsrzvV3aizac"
      },
      "execution_count": null,
      "outputs": []
    },
    {
      "cell_type": "code",
      "source": [
        "real_donald_trump_df.head()"
      ],
      "metadata": {
        "id": "1Api_2Vbi2Iq"
      },
      "execution_count": null,
      "outputs": []
    },
    {
      "cell_type": "markdown",
      "metadata": {
        "id": "mty9AB1bd5hH"
      },
      "source": [
        "## Problem 1: Pre-Processing the Tweets\n",
        "As you may have noticed from the dataframe we just loaded, there are some special characters we need to handle. If we are making a tweet or sentence generator, we don't want to mess with special characters like commas or colons or really even captialization. So in the following section you are going to preprocess the data and strip these special characters out."
      ]
    },
    {
      "cell_type": "markdown",
      "metadata": {
        "id": "C8V1hjp0rhOw"
      },
      "source": [
        "### Task 1: The Preprocess function\n",
        "In the following code block complete the preprocess function that will strip or substitute out various special characters or sequences of characters that may not be ideal when training a sentence generator. We will use the built-in re python library to do a number of substitutions, and I have given you a skeleton below, see if you can complete it."
      ]
    },
    {
      "cell_type": "code",
      "execution_count": null,
      "metadata": {
        "id": "IX8v3DzArOf6"
      },
      "outputs": [],
      "source": [
        "import re\n",
        "\n",
        "REGEX_SUBS = {\n",
        "  '\\\\': ' ',\n",
        "  '\\n': ' ',\n",
        "  '&': '',\n",
        "  'RT ': '',\n",
        "  '~': '',\n",
        "  '#': '',\n",
        "  '!+': '',\n",
        "  '(http[s]?\\S+)|(\\w+\\.[A-Za-z]{2,4}\\S*)': 'link',\n",
        "  '[*]': '',\n",
        "  '[@]\\w+': 'user',\n",
        "  '[:|;]': '',\n",
        "  '[\\\\x]\\W+|\\d': '',\n",
        "  '[\\\\x]\\W+|\\d': '',\n",
        "  '[\\\\x]\\w+': '',\n",
        "  '    ': ' ',\n",
        "  '   ': ' ',\n",
        "  '  ': ' ',\n",
        "}\n",
        "\n",
        "def preprocess(text):\n",
        "  # TODO: Complete the function and using the provided regular expression substitutions.\n",
        "  for key, value in REGEX_SUBS.items():\n",
        "    #TODO: Do something, maybe look at the re.sub command.\n",
        "  #TODO: Also make everything lowercase\n",
        "  return text"
      ]
    },
    {
      "cell_type": "markdown",
      "metadata": {
        "id": "T_Ln5qixfHwt"
      },
      "source": [
        "### Task 2: Preprocess the dataset.\n",
        "Now that we have our preprocess function, let's preprocess all the tweets."
      ]
    },
    {
      "cell_type": "code",
      "execution_count": null,
      "metadata": {
        "id": "ZCY6MmC-6HhX"
      },
      "outputs": [],
      "source": [
        "#TODO: Run all the Dataframe content through your preprocess function."
      ]
    },
    {
      "cell_type": "markdown",
      "metadata": {
        "id": "0530JEhj40JU"
      },
      "source": [
        "### Task 3: Tokenize the Data\n",
        "The next step in every Natural Language Processing task is to tokenize the data, i.e., seperate our words, special characters, etc. into separate unique tokens. We will be using the [Natural Language Tool Kit](https://www.nltk.org/index.html) in python to accomplish this. Study the nltk API docs and see if you can tokenize our data."
      ]
    },
    {
      "cell_type": "code",
      "execution_count": null,
      "metadata": {
        "id": "A5jwnhoU5cn7"
      },
      "outputs": [],
      "source": [
        "from nltk.tokenize import word_tokenize\n",
        "\n",
        "tokenized = []\n",
        "# TODO: Tokenize each preprocessed tweet"
      ]
    },
    {
      "cell_type": "markdown",
      "metadata": {
        "id": "UC58Uu6E3AgX"
      },
      "source": [
        "### Task 4: Build a Vocabulary\n",
        "Now that we have our data tokenized, let's build a vocabulary including beginning and ending of sentence tokens, i.e., \\<s>, \\</s> for example. At this point let's also add in these beginning and end tokens into each of our data instances."
      ]
    },
    {
      "cell_type": "code",
      "execution_count": null,
      "metadata": {
        "id": "Zr7jeaZf0lXX"
      },
      "outputs": [],
      "source": [
        "vocab_keys = {'<s>', '</s>'}\n",
        "#TODO: Build a vocabulary dictionary and inverse vocabulary dictionary\n",
        "vocabulary = {token: idx for idx, token in enumerate(vocab_keys)}\n",
        "vocabulary_inverse = {idx: token for token, idx in vocabulary.items()}\n",
        "\n",
        "#TODO: Encode training data.\n",
        "train_data = []"
      ]
    },
    {
      "cell_type": "markdown",
      "metadata": {
        "id": "zPvUebuqx7Zv"
      },
      "source": [
        "# Problem 1: N-gram Language Model\n",
        "In this problem, you will be building a couple n-gram language modeling and see how well just taking pure frequency counts and building a conditional probability distrbution will work."
      ]
    },
    {
      "cell_type": "markdown",
      "metadata": {
        "id": "GcidjoN9yfDn"
      },
      "source": [
        "## Task 1: A 2-gram (Bigram) Model\n",
        "Recall that our goal in building a language model is to represent the conditional probability $P(w_i | w_{i-1})$ for pairs of words $w_i$ and $w_j$."
      ]
    },
    {
      "cell_type": "markdown",
      "metadata": {
        "id": "udSAfh76ypCS"
      },
      "source": [
        "### Part A: Frequencies\n",
        "Go through the encoded Trump tweets and calculate the frequencies of all words as well as all pair of words that appear next to each other in the corpus."
      ]
    },
    {
      "cell_type": "code",
      "execution_count": null,
      "metadata": {
        "id": "qbHlzNfazdB1"
      },
      "outputs": [],
      "source": [
        "from collections import defaultdict\n",
        "\n",
        "def make_grams(tweets, n=2):\n",
        "  #TODO: Complete the function to make the necessary bigrams.\n",
        "  return grams\n",
        "\n",
        "def calculate_counts(grams):\n",
        "  #TODO: Complete the function to count all the bigrams.\n",
        "  return counts"
      ]
    },
    {
      "cell_type": "code",
      "execution_count": null,
      "metadata": {
        "id": "Y5ddjeM31Qlu"
      },
      "outputs": [],
      "source": [
        "grams = make_grams(train_data)\n",
        "counts = calculate_counts(grams)"
      ]
    },
    {
      "cell_type": "markdown",
      "metadata": {
        "id": "iaNdT9dO1GNM"
      },
      "source": [
        "### Part B: Probabilities\n",
        "Now from the counts above we will calculate an associated conditional probabilities."
      ]
    },
    {
      "cell_type": "code",
      "execution_count": null,
      "metadata": {
        "id": "Xn_rcmtn1SYE"
      },
      "outputs": [],
      "source": [
        "probs = defaultdict(dict)\n",
        "for gram, count in counts.items():\n",
        "  #TODO: Do something..."
      ]
    },
    {
      "cell_type": "markdown",
      "metadata": {
        "id": "PFK8qmFg1o8V"
      },
      "source": [
        "### Part C: Make an Bigram Generator Function\n",
        "Now that we have our probability distrbution, let's make a generator function so that we can generate random Trump tweets using our bigram language model."
      ]
    },
    {
      "cell_type": "code",
      "execution_count": null,
      "metadata": {
        "id": "qe3lugnI1dRS"
      },
      "outputs": [],
      "source": [
        "def get_next_word(next_word_probs):\n",
        "  #TODO: Write a function to get the next word based on the previous words conditional probabilities.\n",
        "  return something\n",
        "\n",
        "def generate(start_text='', n=10, probs=probs, vocabulary=vocabulary, vocabulary_inverse=vocabulary_inverse):\n",
        "  # Helper code to create the start text.\n",
        "  start_text = ['<s>'] + nltk.word_tokenize(preprocess(start_text))\n",
        "\n",
        "  #TODO: Encode and generate a trump tweet.\n",
        "  return something"
      ]
    },
    {
      "cell_type": "code",
      "execution_count": null,
      "metadata": {
        "id": "_4ssQiWK3VnD"
      },
      "outputs": [],
      "source": [
        "generate('I can make')"
      ]
    },
    {
      "cell_type": "markdown",
      "metadata": {
        "id": "WC5ZUiZD1-ew"
      },
      "source": [
        "## **(Bonus)** Task 2: Make a Trigram Model\n",
        "Using your code from Parts A-C, see if you can build a trigram (3-gram) model that might make tweets a little more logical."
      ]
    },
    {
      "cell_type": "code",
      "execution_count": null,
      "metadata": {
        "id": "aY_vnGqB2FxG"
      },
      "outputs": [],
      "source": [
        "#TODO: Your code goes here."
      ]
    },
    {
      "cell_type": "markdown",
      "metadata": {
        "id": "Cq3fmX8K_l_N"
      },
      "source": [
        "# Problem 2: Using a Transformer\n",
        "In this section we are going to leverage a pretrained transformer, i.e., [GPT-2](https://d4mucfpksywv.cloudfront.net/better-language-models/language_models_are_unsupervised_multitask_learners.pdf), built by the [Hugging Faces Team](https://huggingface.co/gpt2?text=A+long+time+ago%2C). We will also be using their tokenizers because they have been optimized for the language generation task. You should be aware that behind the scenes, their model is using [PyTorch](https://pytorch.org/), the deep learning library built by Facebook, and is quickly becoming more popular than our beloved Tensorflow."
      ]
    },
    {
      "cell_type": "markdown",
      "metadata": {
        "id": "PJNX1muh_7IA"
      },
      "source": [
        "## Task 1: Install and load the GPT2 Model"
      ]
    },
    {
      "cell_type": "code",
      "execution_count": null,
      "metadata": {
        "id": "HAUkPd1lAFHh"
      },
      "outputs": [],
      "source": [
        "# Run the following code to install the HuggingFace's transformer python package.\n",
        "! pip install transformers"
      ]
    },
    {
      "cell_type": "code",
      "execution_count": null,
      "metadata": {
        "id": "8vf9LGqwfTmd"
      },
      "outputs": [],
      "source": [
        "# TODO: Follow the link above and load the GPT2 model as well as the tokenizer.\n",
        "# NOTE: Replace GPT2Model with GPT2LMHeadModel (this is the model for finetuning use cases.)"
      ]
    },
    {
      "cell_type": "markdown",
      "metadata": {
        "id": "voxq5kGXs3fv"
      },
      "source": [
        "## Task 2: Formatting our Training Data\n",
        "Upcoming we will be fine-tunning this GPT-2 model on our Trump Tweets, but in order to leverage some of the utility classes built by HuggingFaces, we want to take our preprocessed Trump tweets and place them in a flat text file."
      ]
    },
    {
      "cell_type": "code",
      "execution_count": null,
      "metadata": {
        "id": "3ZEdK90df8WG"
      },
      "outputs": [],
      "source": [
        "#TODO: Take our preprocessed trump tweets and write them to a text file\n",
        "with open('trumpdata.txt', 'w') as text_file:\n",
        "  #TODO: Do something"
      ]
    },
    {
      "cell_type": "markdown",
      "metadata": {
        "id": "koMncJbEtoyg"
      },
      "source": [
        "## Task 4: Fine-tuning the Model\n",
        "In the following sections, we will complete a couple functions that will allow us to fine-tune the GPT-2 model to our Trump Tweets. I am going to give you a couple of these helper functions, but leave you to write parts of the training function. See the following documentation from Hugging Faces to see the attributes for the [Trainer Class](https://huggingface.co/docs/transformers/main_classes/trainer#transformers.Trainer)."
      ]
    },
    {
      "cell_type": "code",
      "execution_count": null,
      "metadata": {
        "id": "kxJQdEcx3r4g"
      },
      "outputs": [],
      "source": [
        "from transformers import Trainer, TrainingArguments\n",
        "from transformers import TextDataset, DataCollatorForLanguageModeling\n",
        "\n",
        "def load_dataset(file_path, tokenizer, block_size = 128):\n",
        "    # Will load and tokenize the data\n",
        "    dataset = TextDataset(\n",
        "        tokenizer = tokenizer,\n",
        "        file_path = file_path,\n",
        "        block_size = block_size,\n",
        "    )\n",
        "    return dataset\n",
        "\n",
        "def load_data_collator(tokenizer, mlm = False):\n",
        "    # Helper Function\n",
        "    data_collator = DataCollatorForLanguageModeling(\n",
        "        tokenizer=tokenizer,\n",
        "        mlm=mlm,\n",
        "    )\n",
        "    return data_collator\n",
        "\n",
        "def train(\n",
        "    train_file_path,\n",
        "    model,\n",
        "    tokenizer,\n",
        "    output_dir,\n",
        "    overwrite_output_dir,\n",
        "    num_train_epochs,\n",
        "    save_steps\n",
        "    ):\n",
        "  #TODO: Use the helper functions above to load the dataset and data collector.\n",
        "\n",
        "  # Don't mess with.\n",
        "  tokenizer.save_pretrained(output_dir)\n",
        "  model.save_pretrained(output_dir)\n",
        "\n",
        "  # Don't mess with.\n",
        "  training_args = TrainingArguments(\n",
        "          output_dir=output_dir,\n",
        "          overwrite_output_dir=overwrite_output_dir,\n",
        "          per_device_train_batch_size=8,\n",
        "          num_train_epochs=num_train_epochs,\n",
        "      )\n",
        "  #TODO: Use the Trainer class with the necessary parameters to instaniate the trainer\n",
        "  trainer = Trainer(\n",
        "\n",
        "  )\n",
        "\n",
        "  #TODO: Train and save the model using the train and save functions built into the Trainer class."
      ]
    },
    {
      "cell_type": "code",
      "execution_count": null,
      "metadata": {
        "id": "3drTxu5p39K1"
      },
      "outputs": [],
      "source": [
        "#TODO: Set necessary parameters, here are some defaults.\n",
        "train_file_path = \"/content/trumpdata.txt\"\n",
        "output_dir = '/content/result'\n",
        "overwrite_output_dir = False\n",
        "num_train_epochs = 1\n",
        "save_steps = 500"
      ]
    },
    {
      "cell_type": "code",
      "execution_count": null,
      "metadata": {
        "id": "bLFjEBY44FoD"
      },
      "outputs": [],
      "source": [
        "#TODO: Use your train function to train the model. It takes about 30 minutes to train in colab."
      ]
    },
    {
      "cell_type": "markdown",
      "metadata": {
        "id": "b6MbNciWv0HT"
      },
      "source": [
        "## Task 5: Creating a Tweet Generator\n",
        "Now that we have our trained model, it's time to generate some Tweets. Since we should have saved our model and tokenizer to an output directory, I've already made some helper functions to load those in. We will focus on our *generate_text* function. The function will take as input some start text like \"I am\" or \"My country is\", etc., as well as a max_length parameter which tells the model how much text to generate. Let's Go!"
      ]
    },
    {
      "cell_type": "code",
      "execution_count": null,
      "metadata": {
        "id": "GOXahdOC4I9q"
      },
      "outputs": [],
      "source": [
        "def load_model(model_path):\n",
        "    model = GPT2LMHeadModel.from_pretrained(model_path)\n",
        "    return model\n",
        "\n",
        "def load_tokenizer(tokenizer_path):\n",
        "    tokenizer = GPT2Tokenizer.from_pretrained(tokenizer_path)\n",
        "    return tokenizer\n",
        "\n",
        "def generate_text(sequence, max_length):\n",
        "    #TODO: Load in the finetuned model and tokenizer\n",
        "\n",
        "    # Encode our passed sequence\n",
        "    ids = tokenizer.encode(\n",
        "        #TODO:Put something here,\n",
        "        return_tensors='pt'\n",
        "        )\n",
        "    #TODO: Use the generate method in our model class to generate output tokens.\n",
        "    final_outputs = model.generate(\n",
        "        #TODO: Complete some of the parameters and leave the parameters I've passed in.\n",
        "\n",
        "        # Parameters you should leave\n",
        "        do_sample=True,\n",
        "        pad_token_id=model.config.eos_token_id,\n",
        "        top_k=50,\n",
        "        top_p=0.95,\n",
        "    )\n",
        "    # Function to print and decode output.\n",
        "    print(tokenizer.decode(final_outputs[0], skip_special_tokens=True))"
      ]
    },
    {
      "cell_type": "code",
      "execution_count": null,
      "metadata": {
        "id": "KC8O6Fnh4X-9"
      },
      "outputs": [],
      "source": [
        "#TODO: Now generate some text!\n",
        "generate_text('I can make', 30)"
      ]
    }
  ],
  "metadata": {
    "accelerator": "GPU",
    "colab": {
      "provenance": [],
      "toc_visible": true
    },
    "gpuClass": "standard",
    "kernelspec": {
      "display_name": "Python 3",
      "language": "python",
      "name": "python3"
    },
    "language_info": {
      "codemirror_mode": {
        "name": "ipython",
        "version": 3
      },
      "file_extension": ".py",
      "mimetype": "text/x-python",
      "name": "python",
      "nbconvert_exporter": "python",
      "pygments_lexer": "ipython3",
      "version": "3.6.3"
    }
  },
  "nbformat": 4,
  "nbformat_minor": 0
}
